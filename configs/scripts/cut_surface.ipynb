{
 "cells": [
  {
   "cell_type": "code",
   "execution_count": 11,
   "id": "88fac968-f477-4ef9-ad35-d577f2c9621d",
   "metadata": {},
   "outputs": [],
   "source": [
    "import numpy as np\n",
    "import os\n",
    "from ase import io\n",
    "from ase import Atoms\n",
    "from ase.build import surface, cut, add_vacuum"
   ]
  },
  {
   "cell_type": "code",
   "execution_count": 15,
   "id": "1da62a08-8c69-47fa-890e-abf6b8f8afe8",
   "metadata": {},
   "outputs": [],
   "source": [
    "def build_surface (filename_input,filename_output):\n",
    "    #####################\n",
    "    ### read config file \n",
    "    #####################\n",
    "    atoms_input = io.read(filename=filename_input)\n",
    "\n",
    "    #####################\n",
    "    ### build surface ###\n",
    "    #####################\n",
    "    indices = (1,1,0)  # Miller index\n",
    "    layers = 4 # number of layers\n",
    "    vacuum = 10.0 # vacuum thickness\n",
    "\n",
    "    ### ase.build.surface(lattice, indices, layers, vacuum=None(Ang), tol=1e-10, periodic=False)\n",
    "    #atoms = surface(atoms_input, indices, layers, vacuum) \n",
    "    atoms = surface(atoms_input,(1,1,0),2,vacuum=5)\n",
    "    ### ###\n",
    "    ######################\n",
    "    ### write cif file ###\n",
    "    ######################\n",
    "    io.write(filename=filename_output, images=atoms)\n",
    "\n",
    "    return"
   ]
  },
  {
   "cell_type": "code",
   "execution_count": 16,
   "id": "ce57d283-ec16-4df8-92d1-b787c8012672",
   "metadata": {},
   "outputs": [],
   "source": [
    "filename_input=\"Li14Cr2N8O.poscar\"\n",
    "filename_output=\"./110_surf_shivam.xyz\"\n",
    "    \n",
    "filepath = os.getcwd()\n",
    "current_dir = os.path.basename(filepath)\n",
    "build_surface(filename_input,filename_output)"
   ]
  },
  {
   "cell_type": "code",
   "execution_count": null,
   "id": "54beddc6-e970-4956-a08f-7294ccdda226",
   "metadata": {},
   "outputs": [],
   "source": []
  }
 ],
 "metadata": {
  "kernelspec": {
   "display_name": "Python 3 (ipykernel)",
   "language": "python",
   "name": "python3"
  },
  "language_info": {
   "codemirror_mode": {
    "name": "ipython",
    "version": 3
   },
   "file_extension": ".py",
   "mimetype": "text/x-python",
   "name": "python",
   "nbconvert_exporter": "python",
   "pygments_lexer": "ipython3",
   "version": "3.9.13"
  }
 },
 "nbformat": 4,
 "nbformat_minor": 5
}
