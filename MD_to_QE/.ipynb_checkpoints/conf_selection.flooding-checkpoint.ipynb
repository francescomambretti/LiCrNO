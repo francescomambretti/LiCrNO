{
 "cells": [
  {
   "cell_type": "code",
   "execution_count": null,
   "id": "cfc51f01",
   "metadata": {
    "tags": []
   },
   "outputs": [],
   "source": [
    "import numpy as np \n",
    "import matplotlib.pyplot as plt\n",
    "import os\n",
    "import functions as fnc\n",
    "\n",
    "%load_ext autoreload\n",
    "%autoreload 2"
   ]
  },
  {
   "cell_type": "markdown",
   "id": "751225ca",
   "metadata": {},
   "source": [
    "### Hyperparameters"
   ]
  },
  {
   "cell_type": "code",
   "execution_count": null,
   "id": "9eec6ae3",
   "metadata": {
    "tags": []
   },
   "outputs": [],
   "source": [
    "#Intervals for deviations in eV/Å\n",
    "N_samples=20 #take the last 20 frames before committor stops the simulation\n",
    "\n",
    "nbin= 200\n",
    "\n",
    "#Other parameters\n",
    "min_id=0  #run index\n",
    "max_id=30\n",
    "natoms=328\n",
    "lines_per_split=natoms+2 #fixed"
   ]
  },
  {
   "cell_type": "code",
   "execution_count": null,
   "id": "8e9bf8af",
   "metadata": {
    "tags": []
   },
   "outputs": [],
   "source": [
    "type_of_sim=\"bias_130_pace_250/\"\n",
    "main_path=\"/work/fmambretti/uzbeko/round11/NN_form/flooding\"+\"/\"+type_of_sim\n",
    "out_path=main_path #where to save the output files\n",
    "\n",
    "#out_path=\"/work/fmambretti/uzbeko/round12/NN_form/test_potentials/training_11+unbias12/coord_NH-NH_all/\"+type_of_sim\n",
    "if (out_path!=main_path):\n",
    "    os.system(\"mkdir -p \"+out_path)"
   ]
  },
  {
   "cell_type": "markdown",
   "id": "ff5a7577-5f4d-49e3-8e1f-07d3290f32c6",
   "metadata": {},
   "source": [
    "### Substitute parameters in header template for scf calculation"
   ]
  },
  {
   "cell_type": "code",
   "execution_count": null,
   "id": "ae50432b-99ca-4bbf-820f-14de4ddab43b",
   "metadata": {
    "tags": []
   },
   "outputs": [],
   "source": [
    "fnc.subs_head(natoms)"
   ]
  },
  {
   "cell_type": "markdown",
   "id": "222f1bb6-50c5-4e30-99ae-f2c2233d8bd2",
   "metadata": {},
   "source": [
    "### Run with OPES flooding, by selecting last configurations before transition"
   ]
  },
  {
   "cell_type": "code",
   "execution_count": null,
   "id": "f50cdf47-2cca-412a-8a5b-b4e31da2b9f6",
   "metadata": {
    "tags": []
   },
   "outputs": [],
   "source": [
    "for t in range(min_id,max_id+1):\n",
    "    path = main_path+\"/run_{}/\".format(str(t))\n",
    "    # Read data\n",
    "    filename = path+'model_devi.out'     # name of model deviation file \n",
    "    \n",
    "    devi = np.loadtxt(filename,skiprows=0)\n",
    "    lendevi = len(devi)\n",
    "    print('Number of DATA point', lendevi) # total number of collected frames\n",
    "    \n",
    "    skip=lendevi-N_samples\n",
    "    devi=devi[-N_samples:] # take just the last N_samples frames\n",
    "    \n",
    "    # Read traj \n",
    "    file_xyz = path+'dump.xyz'  # name of xyz file \n",
    "    atoms, coords = fnc.read_xyz(file_xyz,skip*(lines_per_split),lendevi)\n",
    "    \n",
    "    # Histrogram of Maximum Force Deviation   \n",
    "    #MF,lenMF=fnc.histo_force(devi,nbin)\n",
    "\n",
    "    # Select configs - atoms are already OK and also devi\n",
    "    fnc.sel_conf_flooding(N_samples,out_path,devi,coords,atoms,t)"
   ]
  },
  {
   "cell_type": "markdown",
   "id": "51ced671",
   "metadata": {},
   "source": [
    "### Split .xyz files"
   ]
  },
  {
   "cell_type": "code",
   "execution_count": null,
   "id": "77864117",
   "metadata": {
    "tags": []
   },
   "outputs": [],
   "source": [
    "fnc.split_xyz (min_id,max_id,out_path,lines_per_split,\"geom_sel.xyz\")"
   ]
  },
  {
   "cell_type": "markdown",
   "id": "f16f9636",
   "metadata": {},
   "source": [
    "### Create QE input files"
   ]
  },
  {
   "cell_type": "code",
   "execution_count": null,
   "id": "b5916d1b",
   "metadata": {
    "tags": []
   },
   "outputs": [],
   "source": [
    "fnc.create_QE_inp(min_id,max_id,out_path)"
   ]
  },
  {
   "cell_type": "markdown",
   "id": "180a86fa",
   "metadata": {},
   "source": [
    "### Create subfolders (to run calculations in parallel) by collecting QE input files in groups"
   ]
  },
  {
   "cell_type": "code",
   "execution_count": null,
   "id": "8e9d1332-10c0-41ec-99e8-4ea142a4893e",
   "metadata": {
    "tags": []
   },
   "outputs": [],
   "source": [
    "N=N_samples #files in each folder for QE calculations\n",
    "fnc.create_subfold (N,min_id,max_id,out_path)"
   ]
  },
  {
   "cell_type": "markdown",
   "id": "798aa210",
   "metadata": {},
   "source": [
    "### Create tar folders"
   ]
  },
  {
   "cell_type": "code",
   "execution_count": null,
   "id": "a944bf4e-4af8-4692-85fd-e5500d55c388",
   "metadata": {
    "tags": []
   },
   "outputs": [],
   "source": [
    "fnc.make_tar(min_id,max_id,out_path)"
   ]
  },
  {
   "cell_type": "code",
   "execution_count": null,
   "id": "3d365f7e-f804-4147-b890-b0f8f8200fd9",
   "metadata": {},
   "outputs": [],
   "source": []
  }
 ],
 "metadata": {
  "kernelspec": {
   "display_name": "Python 3 (ipykernel)",
   "language": "python",
   "name": "python3"
  },
  "language_info": {
   "codemirror_mode": {
    "name": "ipython",
    "version": 3
   },
   "file_extension": ".py",
   "mimetype": "text/x-python",
   "name": "python",
   "nbconvert_exporter": "python",
   "pygments_lexer": "ipython3",
   "version": "3.9.13"
  }
 },
 "nbformat": 4,
 "nbformat_minor": 5
}
