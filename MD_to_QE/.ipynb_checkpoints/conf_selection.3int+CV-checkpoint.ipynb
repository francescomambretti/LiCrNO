{
 "cells": [
  {
   "cell_type": "code",
   "execution_count": null,
   "id": "cfc51f01",
   "metadata": {
    "tags": []
   },
   "outputs": [],
   "source": [
    "import numpy as np \n",
    "import matplotlib.pyplot as plt\n",
    "import os\n",
    "import functions as fnc"
   ]
  },
  {
   "cell_type": "markdown",
   "id": "751225ca",
   "metadata": {},
   "source": [
    "### Hyperparameters"
   ]
  },
  {
   "cell_type": "code",
   "execution_count": null,
   "id": "9eec6ae3",
   "metadata": {
    "tags": []
   },
   "outputs": [],
   "source": [
    "#Intervals for deviations in eV/Å\n",
    "intervals = [[0.1,0.2] , [0.2,0.3], [0.3,0.4]]\n",
    "N_samples_int = (150,300,150) # choose how many configurations do you want in each interval\n",
    "\n",
    "nbin = 250 #number of bins for the histogram\n",
    "\n",
    "# CV interval, mind the CV range!\n",
    "min_CV=0.25\n",
    "max_CV=0.65\n",
    "cv_col=1 #CV column in the COLVAR file, please check!\n",
    "\n",
    "# data range to be used\n",
    "time_0=0\n",
    "time_max=25000\n",
    "\n",
    "#Other parameters\n",
    "min_id=0  #run index\n",
    "max_id=5\n",
    "natoms=328\n",
    "lines_per_split=natoms+2 #fixed"
   ]
  },
  {
   "cell_type": "code",
   "execution_count": null,
   "id": "8e9bf8af",
   "metadata": {
    "tags": []
   },
   "outputs": [],
   "source": [
    "type_of_sim=\"bias_130_pace_250/\"\n",
    "main_path=\"/work/fmambretti/uzbeko/round11/NN_form/coord_NH-NH_all/replica\"+\"/\"+type_of_sim\n",
    "out_path=main_path #where to save the output files\n",
    "\n",
    "if (out_path!=main_path):\n",
    "    os.system(\"mkdir -p \"+out_path)"
   ]
  },
  {
   "cell_type": "markdown",
   "id": "ff5a7577-5f4d-49e3-8e1f-07d3290f32c6",
   "metadata": {},
   "source": [
    "### Substitute parameters in header template for scf calculation"
   ]
  },
  {
   "cell_type": "code",
   "execution_count": null,
   "id": "ae50432b-99ca-4bbf-820f-14de4ddab43b",
   "metadata": {
    "tags": []
   },
   "outputs": [],
   "source": [
    "fnc.subs_head(natoms)"
   ]
  },
  {
   "cell_type": "markdown",
   "id": "222f1bb6-50c5-4e30-99ae-f2c2233d8bd2",
   "metadata": {},
   "source": [
    "### Run with three intervals && CV interval"
   ]
  },
  {
   "cell_type": "code",
   "execution_count": null,
   "id": "8d576a22-2824-418e-9f95-15f9f3237a85",
   "metadata": {
    "tags": []
   },
   "outputs": [],
   "source": [
    "for t in range(min_id,max_id+1):\n",
    "    path = main_path+\"/run_{}/\".format(str(t))\n",
    "    # Read data\n",
    "    filename = path+'model_devi.out'     # name of model deviation file \n",
    "    COLVAR_file = path+\"COLVAR\"\n",
    "\n",
    "    skip=time_0 #header is skipped by default\n",
    "    \n",
    "    devi = np.loadtxt(filename,max_rows=time_max-time_0,skiprows=skip)\n",
    "    cv= np.loadtxt(COLVAR_file,usecols=(cv_col,),unpack=True,skiprows=skip,max_rows=time_max-time_0)\n",
    "    print('Number of DATA point', len(devi), len(cv))\n",
    "    \n",
    "    # Read traj \n",
    "    file_xyz = path+'dump.xyz'         # name of xyz file \n",
    "    atoms, coords = fnc.read_xyz(file_xyz,skip*(lines_per_split),time_max-time_0)\n",
    "    \n",
    "    # Histrogram of Maximum Force Deviation   \n",
    "    MF,lenMF=fnc.histo_force(devi,nbin)\n",
    "\n",
    "    # Select configs\n",
    "\n",
    "    devi_sel,cv_sel=fnc.sel_conf_CV(MF,lenMF,intervals,N_samples_int,out_path,devi,coords,atoms,t,cv,min_CV,max_CV)"
   ]
  },
  {
   "cell_type": "markdown",
   "id": "886dc184",
   "metadata": {},
   "source": [
    "### Plot the deviations distribution of the chosen configurations"
   ]
  },
  {
   "cell_type": "code",
   "execution_count": null,
   "id": "63461c35",
   "metadata": {
    "tags": []
   },
   "outputs": [],
   "source": [
    "plt.hist(devi_sel,bins = nbin, color = 'orangered', alpha=0.3)\n",
    "plt.show()"
   ]
  },
  {
   "cell_type": "markdown",
   "id": "50379f89-d646-4f88-a2a4-85f62ce35f64",
   "metadata": {
    "tags": []
   },
   "source": [
    "### Plot the CV distribution of the chosen configurations"
   ]
  },
  {
   "cell_type": "code",
   "execution_count": null,
   "id": "78f12221-1b38-4aa4-8584-f3ffd46c567e",
   "metadata": {
    "tags": []
   },
   "outputs": [],
   "source": [
    "plt.hist(cv_sel,bins = nbin, color = 'blue', alpha=0.3)\n",
    "plt.show()"
   ]
  },
  {
   "cell_type": "markdown",
   "id": "51ced671",
   "metadata": {},
   "source": [
    "### Split .xyz files"
   ]
  },
  {
   "cell_type": "code",
   "execution_count": null,
   "id": "77864117",
   "metadata": {
    "tags": []
   },
   "outputs": [],
   "source": [
    "fnc.split_xyz (min_id,max_id,out_path,lines_per_split)"
   ]
  },
  {
   "cell_type": "markdown",
   "id": "f16f9636",
   "metadata": {},
   "source": [
    "### Create QE input files"
   ]
  },
  {
   "cell_type": "code",
   "execution_count": null,
   "id": "b5916d1b",
   "metadata": {
    "tags": []
   },
   "outputs": [],
   "source": [
    "fnc.create_QE_inp(min_id,max_id,out_path)"
   ]
  },
  {
   "cell_type": "markdown",
   "id": "180a86fa",
   "metadata": {},
   "source": [
    "### Create subfolders (to run calculations in parallel) by collecting QE input files in groups"
   ]
  },
  {
   "cell_type": "code",
   "execution_count": null,
   "id": "8e9d1332-10c0-41ec-99e8-4ea142a4893e",
   "metadata": {
    "tags": []
   },
   "outputs": [],
   "source": [
    "N=10 #files in each folder for QE calculations\n",
    "fnc.create_subfold (N,min_id,max_id,out_path)"
   ]
  },
  {
   "cell_type": "markdown",
   "id": "798aa210",
   "metadata": {},
   "source": [
    "### Create tar folders"
   ]
  },
  {
   "cell_type": "code",
   "execution_count": null,
   "id": "a944bf4e-4af8-4692-85fd-e5500d55c388",
   "metadata": {
    "tags": []
   },
   "outputs": [],
   "source": [
    "fnc.make_tar(min_id,max_id,out_path)"
   ]
  },
  {
   "cell_type": "markdown",
   "id": "a033e9a6-b0d0-455f-818d-08053ae8e3f2",
   "metadata": {},
   "source": []
  },
  {
   "cell_type": "code",
   "execution_count": null,
   "id": "1732c4a8-6fbe-45d4-8a6d-5234da78a305",
   "metadata": {},
   "outputs": [],
   "source": []
  }
 ],
 "metadata": {
  "kernelspec": {
   "display_name": "Python 3 (ipykernel)",
   "language": "python",
   "name": "python3"
  },
  "language_info": {
   "codemirror_mode": {
    "name": "ipython",
    "version": 3
   },
   "file_extension": ".py",
   "mimetype": "text/x-python",
   "name": "python",
   "nbconvert_exporter": "python",
   "pygments_lexer": "ipython3",
   "version": "3.9.13"
  }
 },
 "nbformat": 4,
 "nbformat_minor": 5
}
